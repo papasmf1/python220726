{
 "cells": [
  {
   "cell_type": "code",
   "execution_count": 3,
   "metadata": {},
   "outputs": [
    {
     "name": "stdout",
     "output_type": "stream",
     "text": [
      "Using matplotlib backend: TkAgg\n",
      "%pylab is deprecated, use %matplotlib inline and import the required libraries.\n",
      "Populating the interactive namespace from numpy and matplotlib\n"
     ]
    },
    {
     "data": {
      "text/plain": [
       "[<matplotlib.lines.Line2D at 0x2ae05c5feb0>]"
      ]
     },
     "execution_count": 3,
     "metadata": {},
     "output_type": "execute_result"
    },
    {
     "data": {
      "image/png": "[encoded data removed]",
      "text/plain": [
       "<Figure size 432x288 with 1 Axes>"
      ]
     },
     "metadata": {
      "needs_background": "light"
     },
     "output_type": "display_data"
    }
   ],
   "source": [
    "# DemoPandas.ipynb\n",
    "#매직 명령어(그래픽 라이브러리 활성화)\n",
    "%pylab \n",
    "%matplotlib inline \n",
    "import pandas \n",
    "\n",
    "plot(arange(10))\n",
    "\n",
    "#셀단위로 실행:shift+enter"
   ]
  },
  {
   "cell_type": "code",
   "execution_count": 5,
   "metadata": {},
   "outputs": [
    {
     "name": "stdout",
     "output_type": "stream",
     "text": [
      "<class 'pandas.core.series.Series'>\n",
      "22-07-20    100\n",
      "22-07-21    200\n",
      "22-07-22    300\n",
      "22-07-23    400\n",
      "dtype: int64\n"
     ]
    }
   ],
   "source": [
    "#선언을 하는 2가지 방식\n",
    "from pandas import Series, DataFrame\n",
    "import pandas as pd \n",
    "\n",
    "#간단한 시리즈(주식)\n",
    "multicampus = Series([100,200,300,400],\n",
    "    index=[\"22-07-20\",\"22-07-21\",\"22-07-22\",\"22-07-23\"])\n",
    "print(type(multicampus))\n",
    "print(multicampus)\n",
    "#shift+enter"
   ]
  },
  {
   "cell_type": "code",
   "execution_count": 6,
   "metadata": {},
   "outputs": [
    {
     "name": "stdout",
     "output_type": "stream",
     "text": [
      "{'foreigner': [1, 2, 3, 4, 5], 'private': [10, 20, 30, 40, 50], 'sprice': [100, 200, 300, 400, 500]}\n"
     ]
    }
   ],
   "source": [
    "#데이터프레임(2차원 행열) ==> dict를 변환\n",
    "data = {\"foreigner\":[1,2,3,4,5], \n",
    "        \"private\":[10,20,30,40,50],\n",
    "        \"sprice\":[100,200,300,400,500]\n",
    "        }\n",
    "\n",
    "print(data)\n",
    "#shift+enter"
   ]
  },
  {
   "cell_type": "code",
   "execution_count": 9,
   "metadata": {},
   "outputs": [
    {
     "name": "stdout",
     "output_type": "stream",
     "text": [
      "<class 'pandas.core.frame.DataFrame'>\n",
      "   foreigner  private  sprice\n",
      "0          1       10     100\n",
      "1          2       20     200\n",
      "2          3       30     300\n",
      "3          4       40     400\n",
      "4          5       50     500\n"
     ]
    }
   ],
   "source": [
    "frame1 = DataFrame(data)\n",
    "print(type(frame1))\n",
    "print(frame1)\n",
    "#특정 컬럼을 슬라이싱\n",
    "#frame1[\"private\"]"
   ]
  },
  {
   "cell_type": "code",
   "execution_count": 10,
   "metadata": {},
   "outputs": [
    {
     "name": "stdout",
     "output_type": "stream",
     "text": [
      "id, name, price, description\n",
      "1, iphone, 890000, iphone 6s 7 8 x \n",
      "2, android, 990000, samsung phone\n",
      "3, winphone, 450000, microsoft winphone \n"
     ]
    }
   ],
   "source": [
    "#파일의 내용을 볼때(!type, !cat)\n",
    "!type c:\\work\\ex1.csv "
   ]
  },
  {
   "cell_type": "code",
   "execution_count": 12,
   "metadata": {},
   "outputs": [
    {
     "name": "stdout",
     "output_type": "stream",
     "text": [
      "   id       name   price           description\n",
      "0   1     iphone  890000      iphone 6s 7 8 x \n",
      "1   2    android  990000         samsung phone\n",
      "2   3   winphone  450000   microsoft winphone \n"
     ]
    }
   ],
   "source": [
    "#바로 파일에서 데이터프레임을 복구\n",
    "df1 = pd.read_csv(\"c:\\\\work\\\\ex1.csv\")\n",
    "print(df1) "
   ]
  },
  {
   "cell_type": "code",
   "execution_count": 13,
   "metadata": {},
   "outputs": [
    {
     "name": "stdout",
     "output_type": "stream",
     "text": [
      "1, iphone, 890000, iphone 6s 7 8 x \n",
      "2, android, 990000, samsung phone\n",
      "3, winphone, 450000, microsoft winphone \n"
     ]
    }
   ],
   "source": [
    "!type c:\\work\\ex2.csv "
   ]
  },
  {
   "cell_type": "code",
   "execution_count": 15,
   "metadata": {},
   "outputs": [
    {
     "name": "stdout",
     "output_type": "stream",
     "text": [
      "   id       name   price                  desc\n",
      "0   1     iphone  890000      iphone 6s 7 8 x \n",
      "1   2    android  990000         samsung phone\n",
      "2   3   winphone  450000   microsoft winphone \n"
     ]
    }
   ],
   "source": [
    "df2 = pd.read_csv(\"c:\\\\work\\\\ex2.csv\",\n",
    "    names=[\"id\",\"name\",\"price\",\"desc\"])\n",
    "print(df2)"
   ]
  },
  {
   "cell_type": "code",
   "execution_count": 16,
   "metadata": {},
   "outputs": [
    {
     "name": "stdout",
     "output_type": "stream",
     "text": [
      "     사번 성별  나이  판매금액   수입\n",
      "0  E001  M  34   123  350\n",
      "1  E002  F  40   114  450\n",
      "2  E003  F  37   135  169\n",
      "3  E004  M  30   139  189\n",
      "4  E005  F  44   117  183\n",
      "5  E006  M  36   121   90\n",
      "6  E007  M  32   133  166\n",
      "7  E008  F  26   140  120\n",
      "8  E009  M  32   133   75\n",
      "9  E010  M  36   133   40\n"
     ]
    }
   ],
   "source": [
    "#엑셀파일을 데이터프레임으로 로딩\n",
    "dfExcel = pd.read_excel(\"c:\\\\work\\\\demo.xlsx\", \"Sheet1\")\n",
    "print(dfExcel)"
   ]
  },
  {
   "cell_type": "code",
   "execution_count": 17,
   "metadata": {},
   "outputs": [
    {
     "data": {
      "text/plain": [
       "(array([1., 1., 2., 3., 1., 1., 1.]),\n",
       " array([26.        , 28.57142857, 31.14285714, 33.71428571, 36.28571429,\n",
       "        38.85714286, 41.42857143, 44.        ]),\n",
       " <BarContainer object of 7 artists>)"
      ]
     },
     "execution_count": 17,
     "metadata": {},
     "output_type": "execute_result"
    },
    {
     "data": {
      "image/png": "[encoded data removed]",
      "text/plain": [
       "<Figure size 720x576 with 1 Axes>"
      ]
     },
     "metadata": {
      "needs_background": "light"
     },
     "output_type": "display_data"
    }
   ],
   "source": [
    "%matplotlib inline \n",
    "import matplotlib.pyplot as plt \n",
    "\n",
    "#시각화\n",
    "#그림판을 생성\n",
    "plt.figure(figsize=(10,8))\n",
    "#나이 컬럼을 기준으로 7개 그룹 생성 \n",
    "plt.hist(dfExcel[\"나이\"], bins=7)"
   ]
  },
  {
   "cell_type": "code",
   "execution_count": null,
   "metadata": {},
   "outputs": [],
   "source": []
  }
 ],
 "metadata": {
  "kernelspec": {
   "display_name": "Python 3.9.10 64-bit",
   "language": "python",
   "name": "python3"
  },
  "language_info": {
   "codemirror_mode": {
    "name": "ipython",
    "version": 3
   },
   "file_extension": ".py",
   "mimetype": "text/x-python",
   "name": "python",
   "nbconvert_exporter": "python",
   "pygments_lexer": "ipython3",
   "version": "3.9.10"
  },
  "orig_nbformat": 4,
  "vscode": {
   "interpreter": {
    "hash": "81794d4967e6c3204c66dcd87b604927b115b27c00565d3d43f05ba2f3a2cb0d"
   }
  }
 },
 "nbformat": 4,
 "nbformat_minor": 2
}
